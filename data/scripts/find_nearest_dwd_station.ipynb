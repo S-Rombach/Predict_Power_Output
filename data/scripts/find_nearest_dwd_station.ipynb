{
 "cells": [
  {
   "cell_type": "markdown",
   "id": "0",
   "metadata": {},
   "source": [
    "# Find the nearest DWD station"
   ]
  },
  {
   "cell_type": "code",
   "execution_count": null,
   "id": "1",
   "metadata": {},
   "outputs": [],
   "source": [
    "from geopy.geocoders import Nominatim\n",
    "\n",
    "# Enter address here\n",
    "address = \"Leipziger Platz 1, 10117 Berlin, Germany\"\n",
    "\n",
    "geolocator = Nominatim(user_agent=\"weather_ds\")\n",
    "loc = geolocator.geocode(address)\n",
    "lat, lon = loc.latitude, loc.longitude\n",
    "\n",
    "print(lat, lon)"
   ]
  },
  {
   "cell_type": "code",
   "execution_count": null,
   "id": "2",
   "metadata": {},
   "outputs": [],
   "source": [
    "from wetterdienst.provider.dwd.observation import DwdObservationRequest\n",
    "import datetime as dt\n",
    "\n",
    "# If no address is provided, enter coordinates here\n",
    "lat, lon = lat, lon\n",
    "\n",
    "request = DwdObservationRequest(\n",
    "    parameters=(\"10_minutes\", \"solar\", \"sunshine_duration\"),\n",
    "    start_date=dt.datetime(2025, 1, 1),\n",
    "    end_date=dt.datetime(2025, 1, 20),\n",
    "    periods=\"recent\",\n",
    ")\n",
    "\n",
    "\n",
    "stations = request.filter_by_distance(latlon=(lat, lon), distance=50.0)\n",
    "\n",
    "display(stations.df)"
   ]
  }
 ],
 "metadata": {
  "kernelspec": {
   "display_name": "predict-power-output",
   "language": "python",
   "name": "python3"
  },
  "language_info": {
   "codemirror_mode": {
    "name": "ipython",
    "version": 3
   },
   "file_extension": ".py",
   "mimetype": "text/x-python",
   "name": "python",
   "nbconvert_exporter": "python",
   "pygments_lexer": "ipython3",
   "version": "3.12.11"
  }
 },
 "nbformat": 4,
 "nbformat_minor": 5
}
