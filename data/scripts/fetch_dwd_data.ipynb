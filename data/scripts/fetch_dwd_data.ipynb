{
 "cells": [
  {
   "cell_type": "code",
   "execution_count": null,
   "id": "0",
   "metadata": {},
   "outputs": [],
   "source": [
    "# Requirements:\n",
    "# pip install wetterdienst geopy pandas\n",
    "\n",
    "import pandas as pd\n",
    "from geopy.geocoders import Nominatim\n",
    "from wetterdienst.provider.dwd.observation import (\n",
    "    DwdObservationRequest,\n",
    "    DwdObservationMetadata\n",
    ")\n",
    "from wetterdienst.metadata.parameter import Parameter as DwdPara\n",
    "from wetterdienst.metadata.resolution import Resolution as DwdRes\n",
    "from wetterdienst.metadata.period import Period as DwdPeriod\n",
    "\n",
    "import datetime as dt"
   ]
  },
  {
   "cell_type": "code",
   "execution_count": null,
   "id": "1",
   "metadata": {},
   "outputs": [],
   "source": [
    "params = [\n",
    "    # (\"hourly\", \"sun\"),\n",
    "    # (\"daily\", \"solar\"),\n",
    "    (\"10_minutes\", \"solar\", \"radiation_global\"),\n",
    "    (\"10_minutes\", \"solar\", \"sunshine_duration\"),\n",
    "    # (\"hourly\", \"solar\", \"radiation_global\"),\n",
    "    # (\"hourly\", \"solar\", \"sunshine_duration\"),\n",
    "]\n",
    "\n",
    "start_date = dt.datetime(2020, 4, 1)\n",
    "end_date = dt.datetime(2025, 9, 1)\n",
    "\n",
    "station_ids = []\n",
    "\n",
    "all_data = {}\n",
    "\n",
    "for period in (\"historical\", \"recent\"):\n",
    "    req = DwdObservationRequest(\n",
    "        parameters=params,\n",
    "        start_date=start_date,\n",
    "        end_date=end_date,\n",
    "        periods=period,\n",
    "    )\n",
    "\n",
    "    stations = req.filter_by_station_id(station_id=station_ids)\n",
    "\n",
    "    stations_df = stations.df.to_pandas()\n",
    "    value_df = stations.values.all().df.to_pandas()\n",
    "\n",
    "    all_data[period] = stations_df[\n",
    "        [\"resolution\", \"dataset\", \"station_id\", \"name\"]\n",
    "    ].merge(value_df, on=[\"station_id\", \"resolution\", \"dataset\"], how=\"left\")\n"
   ]
  },
  {
   "cell_type": "code",
   "execution_count": null,
   "id": "2",
   "metadata": {},
   "outputs": [],
   "source": [
    "display(all_data[\"historical\"].groupby([\"resolution\", \"dataset\", \"station_id\", \"parameter\"]).agg({\"date\": [\"min\", \"max\"]}))\n",
    "display(all_data[\"recent\"].groupby([\"resolution\", \"dataset\", \"station_id\", \"parameter\"]).agg({\"date\": [\"min\", \"max\"]}))"
   ]
  },
  {
   "cell_type": "code",
   "execution_count": null,
   "id": "3",
   "metadata": {},
   "outputs": [],
   "source": [
    "# add all data from recent thats not in historical\n",
    "# prefer historical has higher quality assurance"
   ]
  }
 ],
 "metadata": {
  "kernelspec": {
   "display_name": "predict-power-output",
   "language": "python",
   "name": "python3"
  },
  "language_info": {
   "codemirror_mode": {
    "name": "ipython",
    "version": 3
   },
   "file_extension": ".py",
   "mimetype": "text/x-python",
   "name": "python",
   "nbconvert_exporter": "python",
   "pygments_lexer": "ipython3",
   "version": "3.12.11"
  }
 },
 "nbformat": 4,
 "nbformat_minor": 5
}
