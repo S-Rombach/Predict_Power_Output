{
 "cells": [
  {
   "cell_type": "code",
   "execution_count": null,
   "id": "0",
   "metadata": {},
   "outputs": [],
   "source": [
    "# Requirements:\n",
    "# pip install wetterdienst geopy pandas\n",
    "\n",
    "import pandas as pd\n",
    "from geopy.geocoders import Nominatim\n",
    "from wetterdienst.provider.dwd.observation import (\n",
    "    DwdObservationRequest,\n",
    "    DwdObservationMetadata\n",
    ")\n",
    "from wetterdienst.metadata.parameter import Parameter as DwdPara\n",
    "from wetterdienst.metadata.resolution import Resolution as DwdRes\n",
    "from wetterdienst.metadata.period import Period as DwdPeriod\n",
    "\n",
    "import datetime as dt\n",
    "\n",
    "import os\n",
    "from src.config import (\n",
    "    DATA_ORIG_DIR,\n",
    ")"
   ]
  },
  {
   "cell_type": "code",
   "execution_count": null,
   "id": "1",
   "metadata": {},
   "outputs": [],
   "source": [
    "installation_df = pd.read_csv(\n",
    "    os.path.join(DATA_ORIG_DIR, \"installation_data.csv\"),\n",
    "    sep=\";\",\n",
    "    index_col=\"installation\",\n",
    ")\n",
    "\n",
    "weather_station_ids = installation_df.loc[\"elegant_eagle\", \"closest_weather_station_ids\"].split(\"|\")"
   ]
  },
  {
   "cell_type": "code",
   "execution_count": null,
   "id": "2",
   "metadata": {},
   "outputs": [],
   "source": [
    "params = [\n",
    "    # (\"hourly\", \"sun\"),\n",
    "    # (\"daily\", \"solar\"),\n",
    "    (\"10_minutes\", \"solar\", \"radiation_global\"),\n",
    "    (\"10_minutes\", \"solar\", \"sunshine_duration\"),\n",
    "    # (\"hourly\", \"solar\", \"radiation_global\"),\n",
    "    # (\"hourly\", \"solar\", \"sunshine_duration\"),\n",
    "]\n",
    "\n",
    "start_date = dt.datetime(2020, 4, 1)\n",
    "end_date = dt.datetime(2025, 9, 1)\n",
    "\n",
    "station_ids = weather_station_ids\n",
    "\n",
    "all_period_data = {}\n",
    "\n",
    "for period in (\"historical\", \"recent\"):\n",
    "    req = DwdObservationRequest(\n",
    "        parameters=params,\n",
    "        start_date=start_date,\n",
    "        end_date=end_date,\n",
    "        periods=period,\n",
    "    )\n",
    "\n",
    "    stations = req.filter_by_station_id(station_id=station_ids)\n",
    "\n",
    "    stations_df = stations.df.to_pandas()\n",
    "    value_df = stations.values.all().df.to_pandas()\n",
    "\n",
    "    all_period_data[period] = stations_df[\n",
    "        [\"resolution\", \"dataset\", \"station_id\", \"name\"]\n",
    "    ].merge(value_df, on=[\"station_id\", \"resolution\", \"dataset\"], how=\"left\")\n"
   ]
  },
  {
   "cell_type": "code",
   "execution_count": null,
   "id": "3",
   "metadata": {},
   "outputs": [],
   "source": [
    "historical_date_range = all_period_data[\"historical\"].groupby([\"resolution\", \"dataset\", \"station_id\", \"parameter\"]).agg({\"date\": [\"min\", \"max\"]})\n",
    "display(historical_date_range)\n",
    "display(all_period_data[\"recent\"].groupby([\"resolution\", \"dataset\", \"station_id\", \"parameter\"]).agg({\"date\": [\"min\", \"max\"]}))"
   ]
  },
  {
   "cell_type": "code",
   "execution_count": null,
   "id": "4",
   "metadata": {},
   "outputs": [],
   "source": [
    "# add all data from recent thats not in historical\n",
    "# prefer historical has higher quality assurance\n",
    "\n",
    "cols = [\"resolution\", \"dataset\", \"station_id\", \"parameter\", \"date\"]\n",
    "\n",
    "\n",
    "recent_data_not_in_hist = all_period_data[\"recent\"][\n",
    "    ~all_period_data[\"recent\"]\n",
    "    .set_index(cols)\n",
    "    .index.isin(all_period_data[\"historical\"].set_index(cols).index)\n",
    "]\n",
    "display(\n",
    "    recent_data_not_in_hist.groupby(\n",
    "        [\"resolution\", \"dataset\", \"station_id\", \"parameter\"]\n",
    "    ).agg({\"date\": [\"min\", \"max\"]})\n",
    ")"
   ]
  },
  {
   "cell_type": "code",
   "execution_count": null,
   "id": "5",
   "metadata": {},
   "outputs": [],
   "source": [
    "data_combined = pd.concat([all_period_data[\"historical\"], recent_data_not_in_hist])\n",
    "\"\"\"Historical data and recent data combined, to provide a comprehensive timeline for each station and parameter.\"\"\"\n",
    "\n",
    "display(\n",
    "    data_combined.groupby(\n",
    "        [\"resolution\", \"dataset\", \"station_id\", \"parameter\"]\n",
    "    ).agg({\"date\": [\"min\", \"max\"]})\n",
    ")"
   ]
  },
  {
   "cell_type": "code",
   "execution_count": null,
   "id": "6",
   "metadata": {},
   "outputs": [],
   "source": [
    "relevant_data = data_combined[data_combined[\"station_id\"] == station_ids[0]]\n",
    "\"\"\"Data is reduced to data from the nearest station. Missing data is filled with data from other stations.\"\"\"\n",
    "\n",
    "cols = [\"resolution\", \"dataset\", \"parameter\", \"date\"]\n",
    "\n",
    "for stid in station_ids[1:]:\n",
    "    rel_station_data = data_combined[data_combined[\"station_id\"] == stid]\n",
    "\n",
    "    station_data_not_in_rel = rel_station_data[\n",
    "        ~rel_station_data.set_index(cols).index.isin(\n",
    "            relevant_data.set_index(cols).index\n",
    "        )\n",
    "    ]\n",
    "\n",
    "    relevant_data = pd.concat(\n",
    "        [relevant_data, station_data_not_in_rel]\n",
    "    )\n",
    "\n",
    "display(\n",
    "    relevant_data.groupby(\n",
    "        [\"resolution\", \"dataset\", \"parameter\", \"station_id\"]\n",
    "    ).agg({\"date\": [\"min\", \"max\"]})\n",
    ")"
   ]
  },
  {
   "cell_type": "code",
   "execution_count": null,
   "id": "7",
   "metadata": {},
   "outputs": [],
   "source": [
    "# All information except date and values is removed.\n",
    "stationless_data = relevant_data.drop(columns=[\"station_id\", \"name\", \"resolution\", \"dataset\", \"quality\"])\n",
    "\"\"\"A full timeline for each parameter across all stations.\"\"\"\n",
    "\n",
    "stationless_data = stationless_data.pivot(index=\"date\", columns=\"parameter\", values=\"value\").reset_index()\n",
    "stationless_data.columns.name = None\n",
    "display(stationless_data)\n",
    "\n",
    "stationless_data = stationless_data.sort_values(\"date\").set_index(\"date\")\n",
    "\n",
    "\n",
    "# create full 10 min index\n",
    "full_index = pd.date_range(start=stationless_data.index.min(),\n",
    "                           end=stationless_data.index.max(),\n",
    "                           freq=\"10min\")\n",
    "\n",
    "# Reindex → missing data is NaN\n",
    "stationless_data = stationless_data.reindex(full_index).reset_index()\n",
    "display(stationless_data)"
   ]
  }
 ],
 "metadata": {
  "kernelspec": {
   "display_name": "predict-power-output",
   "language": "python",
   "name": "python3"
  },
  "language_info": {
   "codemirror_mode": {
    "name": "ipython",
    "version": 3
   },
   "file_extension": ".py",
   "mimetype": "text/x-python",
   "name": "python",
   "nbconvert_exporter": "python",
   "pygments_lexer": "ipython3",
   "version": "3.12.11"
  }
 },
 "nbformat": 4,
 "nbformat_minor": 5
}
