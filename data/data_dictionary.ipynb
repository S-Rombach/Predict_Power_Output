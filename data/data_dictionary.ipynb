{
 "cells": [
  {
   "cell_type": "markdown",
   "id": "0",
   "metadata": {},
   "source": [
    "# Data dictionary"
   ]
  },
  {
   "cell_type": "markdown",
   "id": "1",
   "metadata": {},
   "source": [
    "| english name                       | german name                                | short name           | dtype | unit | meaning |\n",
    "|------------------------------------|--------------------------------------------|----------------------|-------|------|---------|\n",
    "| installation                       | installation                               | installation         |       |      | the pseudonym of the concrete installation |\n",
    "| timestamp                          | timestamp                                  | timestamp            |       |      | the timestamp of the measurement as full date and time, every quarterly hour       |\n",
    "| state of charge                    | Ladezustand                                | soc                  |       |      |         |\n",
    "| battery charging                   | Batterie (Laden)                           | bat_charge           |       |      |         |\n",
    "| battery discharging                | Batterie (Entladen)                        | bat_discharge        |       |      |         |\n",
    "| grid feed-in                       | Netzeinspeisung                            | grid_feed_in         |       |      |         |\n",
    "| grid consumption                   | Netzbezug                                  | grid_cons            |       |      |         |\n",
    "| solar production tracker 1         | Solarproduktion Tracker 1                  | sol_prod_1           |       |      |         |\n",
    "| solar production tracker 2         | Solarproduktion Tracker 2                  | sol_prod_2           |       |      |         |\n",
    "| solar production                   | Solarproduktion                            | sol_prod             |       |      |         |\n",
    "| house consumption                  | Hausverbrauch                              | house_cons           |       |      |         |\n",
    "| additional consumption             | ADDITIONAL Verbrauch                       | add_cons             |       |      |         |\n",
    "| external consumption               | ext. Verbrauch                             | ext_cons             |       |      |         |\n",
    "| total consumption                  | Σ Verbrauch                                | tot_cons             |       |      |         |\n",
    "| wallbox (id 0) total charging power| Wallbox (ID 0) Gesamtladeleistung          | wb_0_tot_charge      |       |      |         |\n",
    "| wallbox (id 0) grid consumption    | Wallbox (ID 0) Netzbezug                   | wb_0_grid_cons       |       |      |         |\n",
    "| wallbox (id 0) solar charging power| Wallbox (ID 0) Solarladeleistung           | wb_0_sol_charge      |       |      |         |\n",
    "| wallbox total charging power       | Wallbox Gesamtladeleistung                 | wb_tot_charge        |       |      |         |\n"
   ]
  }
 ],
 "metadata": {
  "language_info": {
   "name": "python"
  }
 },
 "nbformat": 4,
 "nbformat_minor": 5
}
