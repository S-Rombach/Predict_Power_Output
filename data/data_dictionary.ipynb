{
 "cells": [
  {
   "cell_type": "markdown",
   "id": "0",
   "metadata": {},
   "source": [
    "# Data dictionary"
   ]
  },
  {
   "cell_type": "markdown",
   "id": "1",
   "metadata": {},
   "source": [
    "## Orignal data"
   ]
  },
  {
   "cell_type": "markdown",
   "id": "2",
   "metadata": {},
   "source": [
    "| english name                       | german name                                | short name           | dtype | unit | meaning |\n",
    "|------------------------------------|--------------------------------------------|----------------------|-------|------|---------|\n",
    "| installation                       | installation                               | installation         | string   |      | the pseudonym of the concrete installation |\n",
    "| timestamp                          | timestamp                                  | timestamp            | datetime |      | the timestamp of the measurement as full date and time, every quarterly hour |\n",
    "| state of charge                    | Ladezustand                                | soc                  | integer  |      | the percentage of battery used |\n",
    "| battery charging                   | Batterie (Laden)                           | bat_charge           | integer  | Wh  | the amount of energy put in the battery |\n",
    "| battery discharging                | Batterie (Entladen)                        | bat_discharge        | integer  | Wh  | the amount of energy taken out of the battery |\n",
    "| grid feed-in                       | Netzeinspeisung                            | grid_feed_in         | integer  | Wh  | the amount of energy fed in the energy grid |\n",
    "| grid consumption                   | Netzbezug                                  | grid_cons            | integer  | Wh  | the amount of energy taken from the energy grid |\n",
    "| solar production tracker 1         | Solarproduktion Tracker 1                  | sol_prod_1           | integer  | Wh  | the amount of energy produced in subinstallation 1 |\n",
    "| solar production tracker 2         | Solarproduktion Tracker 2                  | sol_prod_2           | integer  | Wh  | the amount of energy produced in subinstallation 2 |\n",
    "| solar production                   | Solarproduktion                            | sol_prod             | integer  | Wh  | the total amount of energy produced by all subinstallations |\n",
    "| house consumption                  | Hausverbrauch                              | house_cons           | integer  | Wh  | the total amount of energy consumed by the house |\n",
    "| additional consumption             | ADDITIONAL Verbrauch                       | add_cons             | integer  | Wh  | the amount of energy consumed by additional devices not included in the house consumption |\n",
    "| external consumption               | ext. Verbrauch                             | ext_cons             | integer  | Wh  | the amount of energy consumed by external devices not included in the house consumption |\n",
    "| total consumption                  | Σ Verbrauch                                | tot_cons             | integer  | Wh  | the total amount of energy consumed by the house, additional devices, and external devices |\n",
    "| wallbox (id 0) total charging power| Wallbox (ID 0) Gesamtladeleistung          | wb_0_tot_charge      | integer  | Wh  | the total amount of energy charged by wallbox with ID 0 |\n",
    "| wallbox (id 0) grid consumption    | Wallbox (ID 0) Netzbezug                   | wb_0_grid_cons       | integer  | Wh  | the amount of energy taken from the energy grid by wallbox with ID 0 |\n",
    "| wallbox (id 0) solar charging power| Wallbox (ID 0) Solarladeleistung           | wb_0_sol_charge      | integer  | Wh  | the amount of energy charged by wallbox with ID 0 from solar production |\n",
    "| wallbox total charging power       | Wallbox Gesamtladeleistung                 | wb_tot_charge        | integer  | Wh  | the total amount of energy charged by all wallboxes |\n"
   ]
  },
  {
   "cell_type": "markdown",
   "id": "3",
   "metadata": {},
   "source": [
    "## Raw data\n",
    "All power values are normalized as part of the peak power, resulting in hours of peak power.\n",
    "\n",
    "This\n",
    "* provides comparability across installations and\n",
    "* anonymizes the installation owner further by not giving details about the installation."
   ]
  },
  {
   "cell_type": "markdown",
   "id": "4",
   "metadata": {},
   "source": [
    "| english name                       | short name           | dtype | unit | meaning |\n",
    "|------------------------------------|----------------------|-------|------|---------|\n",
    "| installation                       | installation         | string   |      | the pseudonym of the concrete installation |\n",
    "| timestamp                          | timestamp            | datetime |      | the timestamp of the measurement as full date and time, every quarterly hour |\n",
    "| state of charge                    | soc                  | float    |      | the ratio of battery used |\n",
    "| battery charging                   | bat_charge           | float    | hours of peak power | the amount of energy put in the battery |\n",
    "| battery discharging                | bat_discharge        | float    | hours of peak power | the amount of energy taken out of the battery |\n",
    "| grid feed-in                       | grid_feed_in         | float    | hours of peak power | the amount of energy fed in the energy grid |\n",
    "| grid consumption                   | grid_cons            | float    | hours of peak power | the amount of energy taken from the energy grid |\n",
    "| solar production tracker 1         | sol_prod_1           | float    | hours of peak power | the amount of energy produced in subinstallation 1 |\n",
    "| solar production tracker 2         | sol_prod_2           | float    | hours of peak power | the amount of energy produced in subinstallation 2 |\n",
    "| solar production                   | sol_prod             | float    | hours of peak power | the total amount of energy produced by all subinstallations |\n",
    "| house consumption                  | house_cons           | float    | hours of peak power | the total amount of energy consumed by the house |\n",
    "| additional consumption             | add_cons             | float    | hours of peak power | the amount of energy consumed by additional devices not included in the house consumption |\n",
    "| external consumption               | ext_cons             | float    | hours of peak power | the amount of energy consumed by external devices not included in the house consumption |\n",
    "| total consumption                  | tot_cons             | float    | hours of peak power | the total amount of energy consumed by the house, additional devices, and external devices |\n",
    "| wallbox (id 0) total charging power| wb_0_tot_charge      | float    | hours of peak power | the total amount of energy charged by wallbox with ID 0 |\n",
    "| wallbox (id 0) grid consumption    | wb_0_grid_cons       | float    | hours of peak power | the amount of energy taken from the energy grid by wallbox with ID 0 |\n",
    "| wallbox (id 0) solar charging power| wb_0_sol_charge      | float    | hours of peak power | the amount of energy charged by wallbox with ID 0 from solar production |\n",
    "| wallbox total charging power       | wb_tot_charge        | float    | hours of peak power | the total amount of energy charged by all wallboxes |\n"
   ]
  },
  {
   "cell_type": "markdown",
   "id": "5",
   "metadata": {},
   "source": [
    "## DWD Weather data\n",
    "\n",
    "When the raw data is extended with dwd weather data the following columns are added.\n",
    "\n",
    "| english name     | short name  | dtype    | unit | meaning |\n",
    "|------------------|-------------|----------|------|---------|\n",
    "| radiation_global | rad         | float    | J/(cm²) | Dataset: `gs_10`, Energy per area received on the earth surface |\n",
    "| sunshine_duration | sun         | float    | seconds | Dataset: `sd_10`, NOTE: According to the [documentation](https://wetterdienst.readthedocs.io/en/latest/data/parameters.html#list-of-parameters) the unit of sunshine duration in the dataset `sd_10` (data point every 10 minutes) is `hours`, yet the maximum value is 601.2. The value is considered to be in seconds.|"
   ]
  },
  {
   "cell_type": "markdown",
   "id": "6",
   "metadata": {},
   "source": [
    "## OpenMeteo Weather data\n",
    "\n",
    "When the raw data is extended with OpenMeteo weather data the following columns are added.\n",
    "\n",
    "| english name        | short name | dtype | Valid time          | unit       | Description |\n",
    "|---------------------|------------|-------|---------------------|------------|-------------|\n",
    "| weather_code        |            | int   | Instant             | WMO code   | Weather condition as a numeric code. Follow WMO weather interpretation codes. See [weather codes](https://www.nodc.noaa.gov/archive/arc0021/0002199/1.1/data/0-data/HTML/WMO-CODE/WMO4677.HTM) for details. |\n",
    "| weather_description |            | string| Instant             |            | Generalized weather condition as a string. |\n",
    "| snow_depth          |            | float | Instant             | meters     | Snow depth on the ground |\n",
    "| is_day              |            | int   | Instant             | dimensionless | 1 if the current time step has daylight, 0 at night. |\n",
    "| cloud_cover         |            | float | Instant             | %          | Total cloud cover as an area fraction |\n",
    "| direct_radiation    |            | float | Preceding hour mean | W/m²       | Direct solar radiation as average of the preceding hour on the horizontal plane and the normal plane (perpendicular to the sun) |\n",
    "| sunshine_duration   |            | float | Preceding hour sum  | seconds    | Number of seconds of sunshine of the preceding hour per hour calculated by direct normalized irradiance exceeding 120 W/m², following the WMO definition. |"
   ]
  }
 ],
 "metadata": {
  "language_info": {
   "name": "python"
  }
 },
 "nbformat": 4,
 "nbformat_minor": 5
}
