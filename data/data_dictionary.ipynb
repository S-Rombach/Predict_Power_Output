{
 "cells": [
  {
   "cell_type": "markdown",
   "id": "0",
   "metadata": {},
   "source": [
    "# Data dictionary"
   ]
  },
  {
   "cell_type": "markdown",
   "id": "1",
   "metadata": {},
   "source": [
    "| english name                       | german name                                | short name           | dtype | unit | meaning |\n",
    "|------------------------------------|--------------------------------------------|----------------------|-------|------|---------|\n",
    "| installation                       | installation                               | installation         | string   |      | the pseudonym of the concrete installation |\n",
    "| timestamp                          | timestamp                                  | timestamp            | datetime |      | the timestamp of the measurement as full date and time, every quarterly hour |\n",
    "| state of charge                    | Ladezustand                                | soc                  | integer  |      | the percentage of battery used |\n",
    "| battery charging                   | Batterie (Laden)                           | bat_charge           | integer  | Wh  | the amount of energy put in the battery |\n",
    "| battery discharging                | Batterie (Entladen)                        | bat_discharge        | integer  | Wh  | the amount of energy taken out of the battery |\n",
    "| grid feed-in                       | Netzeinspeisung                            | grid_feed_in         | integer  | Wh  | the amount of energy fed in the energy grid |\n",
    "| grid consumption                   | Netzbezug                                  | grid_cons            | integer  | Wh  | the amount of energy taken from the energy grid |\n",
    "| solar production tracker 1         | Solarproduktion Tracker 1                  | sol_prod_1           | integer  | Wh  | the amount of energy produced in subinstallation 1 |\n",
    "| solar production tracker 2         | Solarproduktion Tracker 2                  | sol_prod_2           | integer  | Wh  | the amount of energy produced in subinstallation 2 |\n",
    "| solar production                   | Solarproduktion                            | sol_prod             | integer  | Wh  | the total amount of energy produced by all subinstallations |\n",
    "| house consumption                  | Hausverbrauch                              | house_cons           | integer  | Wh  | the total amount of energy consumed by the house |\n",
    "| additional consumption             | ADDITIONAL Verbrauch                       | add_cons             | integer  | Wh  | the amount of energy consumed by additional devices not included in the house consumption |\n",
    "| external consumption               | ext. Verbrauch                             | ext_cons             | integer  | Wh  | the amount of energy consumed by external devices not included in the house consumption |\n",
    "| total consumption                  | Σ Verbrauch                                | tot_cons             | integer  | Wh  | the total amount of energy consumed by the house, additional devices, and external devices |\n",
    "| wallbox (id 0) total charging power| Wallbox (ID 0) Gesamtladeleistung          | wb_0_tot_charge      | integer  | Wh  | the total amount of energy charged by wallbox with ID 0 |\n",
    "| wallbox (id 0) grid consumption    | Wallbox (ID 0) Netzbezug                   | wb_0_grid_cons       | integer  | Wh  | the amount of energy taken from the energy grid by wallbox with ID 0 |\n",
    "| wallbox (id 0) solar charging power| Wallbox (ID 0) Solarladeleistung           | wb_0_sol_charge      | integer  | Wh  | the amount of energy charged by wallbox with ID 0 from solar production |\n",
    "| wallbox total charging power       | Wallbox Gesamtladeleistung                 | wb_tot_charge        | integer  | Wh  | the total amount of energy charged by all wallboxes |\n"
   ]
  }
 ],
 "metadata": {
  "language_info": {
   "name": "python"
  }
 },
 "nbformat": 4,
 "nbformat_minor": 5
}
