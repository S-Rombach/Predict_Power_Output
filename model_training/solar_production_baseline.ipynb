{
 "cells": [
  {
   "cell_type": "markdown",
   "id": "0",
   "metadata": {},
   "source": [
    "# Create different baseline models for total solar production\n",
    "\n",
    "In this notebook, a baseline model for predicting solar power production is established using historical energy output data without any context."
   ]
  },
  {
   "cell_type": "markdown",
   "id": "1",
   "metadata": {},
   "source": [
    "## Init, Load"
   ]
  },
  {
   "cell_type": "code",
   "execution_count": null,
   "id": "2",
   "metadata": {},
   "outputs": [],
   "source": [
    "import os\n",
    "import numpy as np\n",
    "import pandas as pd\n",
    "from matplotlib import pyplot as plt\n",
    "import seaborn as sns\n",
    "\n",
    "from src.config import DATA_RAW_DIR, DATA_RAW_FILENAME"
   ]
  },
  {
   "cell_type": "code",
   "execution_count": null,
   "id": "3",
   "metadata": {},
   "outputs": [],
   "source": [
    "df_raw = pd.read_csv(\n",
    "    os.path.join(DATA_RAW_DIR, DATA_RAW_FILENAME),\n",
    "    sep=\";\",\n",
    "    usecols=[\n",
    "        \"installation\",\n",
    "        \"timestamp\",\n",
    "        \"sol_prod\",\n",
    "    ],\n",
    ")"
   ]
  },
  {
   "cell_type": "code",
   "execution_count": null,
   "id": "4",
   "metadata": {},
   "outputs": [],
   "source": [
    "df_raw[\"date\"] = pd.to_datetime(df_raw[\"timestamp\"]).dt.normalize().dt.tz_convert(None)\n",
    "\n",
    "df_doy = (\n",
    "    df_raw.groupby([\"installation\", \"date\"])\n",
    "    .agg({\"sol_prod\": \"sum\"})\n",
    "    .reset_index()\n",
    ")\n",
    "\n",
    "df_doy = df_doy.sort_values([\"date\"])\n",
    "\n",
    "df_doy = df_doy.drop([\"installation\"], axis=1)"
   ]
  },
  {
   "cell_type": "markdown",
   "id": "5",
   "metadata": {},
   "source": [
    "## Split"
   ]
  },
  {
   "cell_type": "code",
   "execution_count": null,
   "id": "6",
   "metadata": {},
   "outputs": [],
   "source": [
    "y = df_doy[\"sol_prod\"]\n",
    "X = df_doy.drop([\"sol_prod\"], axis=1)\n",
    "\n",
    "# last year as holdout\n",
    "split_point = len(X) - 365\n",
    "X_train, X_test = X.loc[:split_point], X.loc[split_point + 1 :]\n",
    "y_train, y_test = y.loc[:split_point], y.loc[split_point + 1 :]"
   ]
  },
  {
   "cell_type": "markdown",
   "id": "7",
   "metadata": {},
   "source": [
    "## Date Feature Regressor"
   ]
  },
  {
   "cell_type": "code",
   "execution_count": null,
   "id": "8",
   "metadata": {},
   "outputs": [],
   "source": [
    "from sklearn.base import BaseEstimator, RegressorMixin\n",
    "\n",
    "\n",
    "class DateFeatureRegressor(BaseEstimator, RegressorMixin):\n",
    "    \"\"\"A simple regressor that predicts solar production based on the mean production oneach day of the year.\"\"\"\n",
    "\n",
    "    def _make_date_features(self, X):\n",
    "        ts = pd.to_datetime(X.iloc[:, 0])\n",
    "\n",
    "        df_feat = pd.DataFrame(\n",
    "            {\n",
    "                \"year\": ts.dt.year,\n",
    "                \"day_of_year\": ts.dt.dayofyear,\n",
    "            }\n",
    "        )\n",
    "\n",
    "        return df_feat\n",
    "\n",
    "    def fit(self, X, y):\n",
    "        X = pd.DataFrame(X) if not isinstance(X, pd.DataFrame) else X.copy()\n",
    "        y = pd.Series(y) if not isinstance(y, pd.Series) else y.copy()\n",
    "        y.name = \"target\"\n",
    "\n",
    "        X_feat = self._make_date_features(X)\n",
    "        X = pd.concat([X_feat.reset_index(drop=True), y.reset_index(drop=True)], axis=1)\n",
    "\n",
    "        # sum up each days production\n",
    "        X_sum = X.groupby([\"day_of_year\", \"year\"]).sum().reset_index()\n",
    "\n",
    "        # calculate mean production for each day of the year\n",
    "        self.means_ = (\n",
    "            X_sum.sort_values(by=[\"day_of_year\", \"year\"])\n",
    "            .drop(\"year\", axis=1)\n",
    "            .groupby(\"day_of_year\")\n",
    "            .mean().reset_index()\n",
    "        )\n",
    "\n",
    "        # ensure we have a value for day 366 (leap years)\n",
    "        # just copy the value from day 365\n",
    "        if 366 not in self.means_[\"day_of_year\"].values:\n",
    "            row366 = self.means_.loc[self.means_[\"day_of_year\"] == 365].copy()\n",
    "            row366[\"day_of_year\"] = 366\n",
    "            self.means_ = pd.concat(\n",
    "                [self.means_, row366], ignore_index=True\n",
    "            ).sort_values(\"day_of_year\")\n",
    "\n",
    "        return self\n",
    "\n",
    "    def predict(self, X):\n",
    "        X = pd.DataFrame(X) if not isinstance(X, pd.DataFrame) else X.copy()\n",
    "        X_feat = self._make_date_features(X)\n",
    "\n",
    "        X = pd.merge(X_feat, self.means_, on=\"day_of_year\", how=\"left\")\n",
    "        return X[\"target\"].values"
   ]
  },
  {
   "cell_type": "markdown",
   "id": "9",
   "metadata": {},
   "source": [
    "## Train"
   ]
  },
  {
   "cell_type": "code",
   "execution_count": null,
   "id": "10",
   "metadata": {},
   "outputs": [],
   "source": [
    "reg = DateFeatureRegressor()\n",
    "\n",
    "reg.fit(X_train, y_train)"
   ]
  },
  {
   "cell_type": "markdown",
   "id": "11",
   "metadata": {},
   "source": [
    "## Predict"
   ]
  },
  {
   "cell_type": "code",
   "execution_count": null,
   "id": "12",
   "metadata": {},
   "outputs": [],
   "source": [
    "y_train_pred = reg.predict(X_train)\n",
    "y_pred = reg.predict(X_test)"
   ]
  },
  {
   "cell_type": "markdown",
   "id": "13",
   "metadata": {},
   "source": [
    "## Plot"
   ]
  },
  {
   "cell_type": "markdown",
   "id": "14",
   "metadata": {},
   "source": [
    "### Load Solstice and Equinox Dates"
   ]
  },
  {
   "cell_type": "code",
   "execution_count": null,
   "id": "15",
   "metadata": {},
   "outputs": [],
   "source": [
    "from src.config import DATA_ORIG_DIR\n",
    "\n",
    "solstice_equinox_df = pd.read_csv(\n",
    "    os.path.join(DATA_ORIG_DIR, \"solstice_equinox_berlin.csv\"), sep=\";\"\n",
    ")\n",
    "solstice_equinox_df[\"date\"] = pd.to_datetime(\n",
    "    pd.to_datetime(solstice_equinox_df[\"date\"]).dt.normalize()\n",
    ")\n",
    "solstice_equinox_df = solstice_equinox_df[\n",
    "    solstice_equinox_df[\"date\"].isin(X[\"date\"])\n",
    "    & (solstice_equinox_df[\"event\"].str.contains(\"Solstice\"))\n",
    "]"
   ]
  },
  {
   "cell_type": "markdown",
   "id": "16",
   "metadata": {},
   "source": [
    "### Plot Predictions"
   ]
  },
  {
   "cell_type": "code",
   "execution_count": null,
   "id": "17",
   "metadata": {},
   "outputs": [],
   "source": [
    "series_kw = {\n",
    "    \"actual\": {\n",
    "        \"marker\": \"\",\n",
    "        \"linestyle\": \"-\",\n",
    "        \"linewidth\": 0.5,\n",
    "        \"alpha\": 0.8,\n",
    "        \"color\": \"tab:blue\",\n",
    "    },\n",
    "    \"pred_train\": {\n",
    "        \"marker\": \"\",\n",
    "        \"linestyle\": \"-\",\n",
    "        \"linewidth\": 0.5,\n",
    "        \"alpha\": 0.8,\n",
    "        \"color\": \"tab:orange\",\n",
    "    },\n",
    "    \"pred_test\": {\n",
    "        \"marker\": \"\",\n",
    "        \"linestyle\": \"-\",\n",
    "        \"linewidth\": 0.5,\n",
    "        \"alpha\": 0.8,\n",
    "        \"color\": \"tab:green\",\n",
    "    },\n",
    "}"
   ]
  },
  {
   "cell_type": "code",
   "execution_count": null,
   "id": "18",
   "metadata": {},
   "outputs": [],
   "source": [
    "fig, axes = plt.subplots(figsize=(12, 6), nrows=3, sharex=True)\n",
    "axes[0].set_title(\"Actual Solar Production vs Predicted\")\n",
    "\n",
    "\n",
    "sns.lineplot(\n",
    "    data=pd.concat([X, pd.Series(y, name=\"sol_prod\")], axis=1),\n",
    "    x=\"date\",\n",
    "    y=\"sol_prod\",\n",
    "    label=\"Actual\",\n",
    "    ax=axes[0],\n",
    "    **series_kw[\"actual\"]\n",
    ")\n",
    "sns.lineplot(\n",
    "    data=pd.concat([X_train, pd.Series(y_train_pred, name=\"pred\")], axis=1),\n",
    "    x=\"date\",\n",
    "    y=\"pred\",\n",
    "    label=\"Predicted (train)\",\n",
    "    ax=axes[0],\n",
    "    **series_kw[\"pred_train\"]\n",
    ")\n",
    "sns.lineplot(\n",
    "    data=pd.concat(\n",
    "        [X_test.reset_index(drop=True), pd.Series(y_pred, name=\"pred\")],\n",
    "        axis=1,\n",
    "    ),\n",
    "    x=\"date\",\n",
    "    y=\"pred\",\n",
    "    label=\"Predicted (test)\",\n",
    "    ax=axes[0],\n",
    "    **series_kw[\"pred_test\"]\n",
    ")\n",
    "\n",
    "for _, row in solstice_equinox_df.iterrows():\n",
    "    axes[0].axvline(\n",
    "        x=row[\"date\"], color=\"gray\", linestyle=\"--\", linewidth=0.8, alpha=0.8\n",
    "    )\n",
    "    y_h = (\n",
    "        axes[0].get_ylim()[1] * 0.9\n",
    "        if row[\"date\"].month == 12\n",
    "        else axes[0].get_ylim()[1] * 0.4\n",
    "    )\n",
    "    axes[0].text(\n",
    "        row[\"date\"],\n",
    "        y_h,\n",
    "        \"Solstice\",\n",
    "        rotation=90,\n",
    "        verticalalignment=\"top\",\n",
    "        horizontalalignment=\"right\",\n",
    "        fontsize=8,\n",
    "        color=\"gray\",\n",
    "    )\n",
    "\n",
    "\n",
    "axes[0].set_ylabel(\"Solar Production (Wh)\")\n",
    "axes[0].legend(loc=\"lower left\")\n",
    "\n",
    "df_doy[\"pred\"] = pd.concat(\n",
    "    [pd.Series(y_train_pred), pd.Series(y_pred)], ignore_index=True\n",
    ")\n",
    "\n",
    "df_doy[\"diff\"] = df_doy[\"pred\"] - df_doy[\"sol_prod\"]\n",
    "\n",
    "axes[1].set_title(\"Difference between Predicted and Actual\")\n",
    "axes[1].axhline(0, color=\"gray\", linestyle=\"--\", linewidth=0.8, alpha=0.8)\n",
    "\n",
    "for dates, series in zip([X_train[\"date\"], X_test[\"date\"]], [\"train\", \"test\"]):\n",
    "    sns.lineplot(\n",
    "        data=df_doy[df_doy[\"date\"].isin(dates)],\n",
    "        x=\"date\",\n",
    "        y=\"diff\",\n",
    "        label=f\"{series}\",\n",
    "        ax=axes[1],\n",
    "        **series_kw[f\"pred_{series}\"]\n",
    "    )\n",
    "axes[1].set_ylabel(\"Difference (Wh)\")\n",
    "axes[1].legend(loc=\"lower left\")\n",
    "\n",
    "df_doy[\"ratio\"] = np.nan\n",
    "df_doy.loc[df_doy[\"sol_prod\"] > 0, \"ratio\"] = df_doy[\"pred\"] / df_doy[\"sol_prod\"]\n",
    "\n",
    "axes[2].set_title(\"Ratio of Predicted to Actual\")\n",
    "axes[2].axhline(1, color=\"gray\", linestyle=\"--\", linewidth=0.8, alpha=0.8)\n",
    "for dates, series in zip([X_train[\"date\"], X_test[\"date\"]], [\"train\", \"test\"]):\n",
    "    sns.lineplot(\n",
    "        data=df_doy[df_doy[\"date\"].isin(dates)],\n",
    "    x=\"date\",\n",
    "    y=\"ratio\",\n",
    "    label=f\"{series}\",\n",
    "    ax=axes[2],\n",
    "    **series_kw[f\"pred_{series}\"]\n",
    ")\n",
    "axes[2].set_ylabel(\"Ratio\")\n",
    "axes[2].legend(loc=\"lower left\")\n",
    "axes[2].set_ylim(0.1, 100)\n",
    "axes[2].set_yscale(\"log\")\n",
    "\n",
    "\n",
    "xlabels = df_doy.loc[\n",
    "    (pd.to_datetime(df_doy[\"date\"]).dt.day == 1)\n",
    "    & (pd.to_datetime(df_doy[\"date\"]).dt.month % 3 == 0),\n",
    "    \"date\",\n",
    "]\n",
    "\n",
    "xlabels = [(d, d.strftime(\"%b %Y\")) for d in pd.to_datetime(xlabels)]\n",
    "axes[2].set_xticks(\n",
    "    [d[0] for d in sorted(xlabels)],\n",
    "    labels=[d[1] for d in sorted(xlabels)],\n",
    ")\n",
    "\n",
    "plt.tight_layout()\n",
    "plt.show()"
   ]
  },
  {
   "cell_type": "markdown",
   "id": "19",
   "metadata": {},
   "source": [
    "## Evaluate"
   ]
  },
  {
   "cell_type": "markdown",
   "id": "20",
   "metadata": {},
   "source": [
    "### Testset"
   ]
  },
  {
   "cell_type": "code",
   "execution_count": null,
   "id": "21",
   "metadata": {},
   "outputs": [],
   "source": [
    "from src.model_evaluation.regressor_evaluation import evaluate_regressor\n",
    "from datetime import datetime\n",
    "\n",
    "results_test = evaluate_regressor(\n",
    "    regressor=reg,\n",
    "    y_true=y_test,\n",
    "    y_pred=y_pred,\n",
    "    timestamp=datetime.now(),\n",
    "    model_purpose=\"baseline\",\n",
    "    special_features=\"reg-from-rollmean\",\n",
    ")\n",
    "\n",
    "print(\"Evaluation Results:\")\n",
    "for key in [\n",
    "    k\n",
    "    for k in [\"MAE\", \"MSE\", \"RMSE\", \"MAPE\", \"MedAE\", \"R2\", \"ExplainedVar\"]\n",
    "    if k in results_test\n",
    "]:\n",
    "    print(f\"  {key}: {results_test.get(key):.4f}\")"
   ]
  },
  {
   "cell_type": "markdown",
   "id": "22",
   "metadata": {},
   "source": [
    "### Trainset"
   ]
  },
  {
   "cell_type": "code",
   "execution_count": null,
   "id": "23",
   "metadata": {},
   "outputs": [],
   "source": [
    "results_train = evaluate_regressor(\n",
    "    regressor=reg,\n",
    "    y_true=y_train,\n",
    "    y_pred=y_train_pred,\n",
    "    timestamp=datetime.now(),\n",
    "    model_purpose=\"baseline\",\n",
    "    special_features=\"reg-from-rollmean\",\n",
    ")\n",
    "\n",
    "print(\"Evaluation Results:\")\n",
    "for key in [\n",
    "    k\n",
    "    for k in [\"MAE\", \"MSE\", \"RMSE\", \"MAPE\", \"MedAE\", \"R2\", \"ExplainedVar\"]\n",
    "    if k in results_train\n",
    "]:\n",
    "    print(f\"  {key}: {results_train.get(key):.4f}\")"
   ]
  },
  {
   "cell_type": "markdown",
   "id": "24",
   "metadata": {},
   "source": [
    "## Concluding Remarks\n",
    "\n",
    "By using the means of the output over the last years per day, a reasonable level of accuracy in the predictions is achieved. However, there is significant room for improvement.\n",
    "\n",
    "Future work could involve exploring more complex modeling techniques to capture the intricate relationships within the data. Additionally, incorporating more features, such as real-time weather data or satellite imagery, could further enhance model performance."
   ]
  }
 ],
 "metadata": {
  "kernelspec": {
   "display_name": "predict-power-output",
   "language": "python",
   "name": "python3"
  },
  "language_info": {
   "codemirror_mode": {
    "name": "ipython",
    "version": 3
   },
   "file_extension": ".py",
   "mimetype": "text/x-python",
   "name": "python",
   "nbconvert_exporter": "python",
   "pygments_lexer": "ipython3",
   "version": "3.12.11"
  }
 },
 "nbformat": 4,
 "nbformat_minor": 5
}
