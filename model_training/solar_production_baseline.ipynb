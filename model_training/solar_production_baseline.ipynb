{
 "cells": [
  {
   "cell_type": "markdown",
   "id": "0",
   "metadata": {},
   "source": [
    "# Create different baseline models for total solar production"
   ]
  },
  {
   "cell_type": "markdown",
   "id": "1",
   "metadata": {},
   "source": [
    "## Init, Load"
   ]
  },
  {
   "cell_type": "code",
   "execution_count": null,
   "id": "2",
   "metadata": {},
   "outputs": [],
   "source": [
    "import os\n",
    "import numpy as np\n",
    "import pandas as pd\n",
    "from matplotlib import pyplot as plt\n",
    "import seaborn as sns\n",
    "\n",
    "from src.config import DATA_RAW_DIR, DATA_RAW_FILENAME"
   ]
  },
  {
   "cell_type": "code",
   "execution_count": null,
   "id": "3",
   "metadata": {},
   "outputs": [],
   "source": [
    "df_raw = pd.read_csv(\n",
    "    os.path.join(DATA_RAW_DIR, DATA_RAW_FILENAME),\n",
    "    sep=\";\",\n",
    "    index_col=[\"timestamp\"],\n",
    "    date_format=\"%Y-%m-%d %H:%M\",\n",
    ")\n",
    "# Recover data in relevant columns\n",
    "df_raw.loc[df_raw[\"sol_prod\"].isna(), \"sol_prod\"] = (\n",
    "    df_raw[df_raw[\"sol_prod\"].isna()][\"sol_prod_1\"]\n",
    "    + df_raw[df_raw[\"sol_prod\"].isna()][\"sol_prod_2\"]\n",
    ")\n",
    "\n",
    "\n",
    "display(df_raw.head(5))"
   ]
  },
  {
   "cell_type": "markdown",
   "id": "4",
   "metadata": {},
   "source": [
    "## Date Feature Regressor"
   ]
  },
  {
   "cell_type": "code",
   "execution_count": null,
   "id": "5",
   "metadata": {},
   "outputs": [],
   "source": [
    "from sklearn.base import BaseEstimator, RegressorMixin\n",
    "\n",
    "\n",
    "class DateFeatureRegressor(BaseEstimator, RegressorMixin):\n",
    "    \"\"\"A simple regressor that predicts solar production based on the mean production oneach day of the year.\"\"\"\n",
    "\n",
    "    def _make_date_features(self, X):\n",
    "        ts = pd.to_datetime(X.iloc[:, 0])\n",
    "\n",
    "        df_feat = pd.DataFrame(\n",
    "            {\n",
    "                \"year\": ts.dt.year,\n",
    "                \"day_of_year\": ts.dt.dayofyear,\n",
    "            }\n",
    "        )\n",
    "\n",
    "        return df_feat\n",
    "\n",
    "    def fit(self, X, y):\n",
    "        X = pd.DataFrame(X) if not isinstance(X, pd.DataFrame) else X.copy()\n",
    "        y = pd.Series(y) if not isinstance(y, pd.Series) else y.copy()\n",
    "        y.name = \"target\"\n",
    "\n",
    "        X_feat = self._make_date_features(X)\n",
    "        X = pd.concat([X_feat.reset_index(drop=True), y.reset_index(drop=True)], axis=1)\n",
    "\n",
    "        # sum up each days production\n",
    "        X_sum = X.groupby([\"day_of_year\", \"year\"]).sum().reset_index()\n",
    "\n",
    "        # calculate mean production for each day of the year\n",
    "        self.means_ = (\n",
    "            X_sum.sort_values(by=[\"day_of_year\", \"year\"])\n",
    "            .drop(\"year\", axis=1)\n",
    "            .groupby(\"day_of_year\")\n",
    "            .mean()\n",
    "        )\n",
    "\n",
    "        return self\n",
    "\n",
    "    def predict(self, X):\n",
    "        X = pd.DataFrame(X) if not isinstance(X, pd.DataFrame) else X.copy()\n",
    "        X_feat = self._make_date_features(X)\n",
    "\n",
    "        X = pd.merge(X_feat, self.means_, on=\"day_of_year\", how=\"left\")\n",
    "        return X[\"target\"].values\n",
    "\n"
   ]
  },
  {
   "cell_type": "markdown",
   "id": "6",
   "metadata": {},
   "source": [
    "## Predict"
   ]
  },
  {
   "cell_type": "code",
   "execution_count": null,
   "id": "7",
   "metadata": {},
   "outputs": [],
   "source": [
    "reg = DateFeatureRegressor()\n",
    "\n",
    "reg.fit(df_raw.index, df_raw[\"sol_prod\"])"
   ]
  },
  {
   "cell_type": "code",
   "execution_count": null,
   "id": "8",
   "metadata": {},
   "outputs": [],
   "source": [
    "df_sum = df_raw.copy().reset_index()\n",
    "df_sum[\"date\"] = df_sum[\"timestamp\"].dt.date\n",
    "\n",
    "df_sum = df_sum[[\"date\", \"sol_prod\"]].groupby([\"date\"]).sum()\n",
    "df_sum[\"pred\"] = reg.predict(df_sum.index)\n",
    "display(df_sum)"
   ]
  },
  {
   "cell_type": "markdown",
   "id": "9",
   "metadata": {},
   "source": [
    "## Plot"
   ]
  },
  {
   "cell_type": "code",
   "execution_count": null,
   "id": "10",
   "metadata": {},
   "outputs": [],
   "source": [
    "fig, axes = plt.subplots(figsize=(12, 6), nrows=3, sharex=True)\n",
    "axes[0].set_title(\"Actual Solar Production vs Predicted\")\n",
    "sns.lineplot(\n",
    "    data=df_sum,\n",
    "    x=\"date\",\n",
    "    y=\"sol_prod\",\n",
    "    label=\"Actual\",\n",
    "    linewidth=0.5,\n",
    "    alpha=0.8,\n",
    "    ax=axes[0],\n",
    ")\n",
    "sns.lineplot(\n",
    "    data=df_sum,\n",
    "    x=\"date\",\n",
    "    y=\"pred\",\n",
    "    label=\"Predicted\",\n",
    "    linewidth=0.5,\n",
    "    alpha=0.8,\n",
    "    ax=axes[0],\n",
    ")\n",
    "\n",
    "\n",
    "axes[0].set_ylabel(\"Solar Production (Wh)\")\n",
    "df_sum[\"diff\"] = df_sum[\"pred\"] - df_sum[\"sol_prod\"]\n",
    "\n",
    "axes[1].set_title(\"Difference between Predicted and Actual\")\n",
    "sns.lineplot(\n",
    "    data=df_sum,\n",
    "    x=\"date\",\n",
    "    y=\"diff\",\n",
    "    label=\"Difference\",\n",
    "    linewidth=0.5,\n",
    "    alpha=0.8,\n",
    "    ax=axes[1],\n",
    ")\n",
    "axes[1].set_ylabel(\"Difference (Wh)\")\n",
    "\n",
    "df_sum[\"ratio\"] = np.nan\n",
    "df_sum.loc[df_sum[\"sol_prod\"] > 0, \"ratio\"] = df_sum[\"pred\"] / df_sum[\"sol_prod\"]\n",
    "\n",
    "axes[2].set_title(\"Ratio of Predicted to Actual\")\n",
    "sns.lineplot(\n",
    "    data=df_sum,\n",
    "    x=\"date\",\n",
    "    y=\"ratio\",\n",
    "    label=\"Ratio\",\n",
    "    linewidth=0.5,\n",
    "    alpha=0.8,\n",
    "    ax=axes[2],\n",
    ")\n",
    "axes[2].set_ylabel(\"Ratio\")\n",
    "axes[2].set_ylim(0.1, 100) \n",
    "axes[2].set_yscale(\"log\")\n",
    "\n",
    "plt.tight_layout()\n",
    "plt.show()"
   ]
  },
  {
   "cell_type": "markdown",
   "id": "11",
   "metadata": {},
   "source": [
    "## Evaluate"
   ]
  },
  {
   "cell_type": "code",
   "execution_count": null,
   "id": "12",
   "metadata": {},
   "outputs": [],
   "source": [
    "from src.model_evaluation.regressor_evaluation import evaluate_regressor\n",
    "from datetime import datetime\n",
    "\n",
    "results = evaluate_regressor(\n",
    "    regressor=reg,\n",
    "    y_true=df_sum[\"sol_prod\"],\n",
    "    y_pred=df_sum[\"pred\"],\n",
    "    timestamp=datetime.now(),\n",
    "    model_purpose=\"baseline\",\n",
    "    special_features=\"reg-from-rollmean\",\n",
    ")\n",
    "\n",
    "print(\"Evaluation Results:\")\n",
    "for key in [\n",
    "    k\n",
    "    for k in [\"MAE\", \"MSE\", \"RMSE\", \"MAPE\", \"MedAE\", \"R2\", \"ExplainedVar\"]\n",
    "    if k in results\n",
    "]:\n",
    "    print(f\"  {key}: {results.get(key):.4f}\")"
   ]
  }
 ],
 "metadata": {
  "kernelspec": {
   "display_name": "predict-power-output",
   "language": "python",
   "name": "python3"
  },
  "language_info": {
   "codemirror_mode": {
    "name": "ipython",
    "version": 3
   },
   "file_extension": ".py",
   "mimetype": "text/x-python",
   "name": "python",
   "nbconvert_exporter": "python",
   "pygments_lexer": "ipython3",
   "version": "3.12.11"
  }
 },
 "nbformat": 4,
 "nbformat_minor": 5
}
