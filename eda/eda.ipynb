{
 "cells": [
  {
   "cell_type": "markdown",
   "id": "0",
   "metadata": {},
   "source": [
    "# EDA"
   ]
  },
  {
   "cell_type": "markdown",
   "id": "1",
   "metadata": {},
   "source": [
    "## Load"
   ]
  },
  {
   "cell_type": "code",
   "execution_count": null,
   "id": "2",
   "metadata": {},
   "outputs": [],
   "source": [
    "import os\n",
    "import numpy as np\n",
    "import pandas as pd\n",
    "from matplotlib import pyplot as plt\n",
    "import seaborn as sns\n",
    "\n",
    "from src.config import DATA_RAW_DIR, DATA_RAW_FILENAME"
   ]
  },
  {
   "cell_type": "code",
   "execution_count": null,
   "id": "3",
   "metadata": {},
   "outputs": [],
   "source": [
    "df_raw = pd.read_csv(os.path.join(DATA_RAW_DIR, DATA_RAW_FILENAME), sep=\";\")"
   ]
  },
  {
   "cell_type": "markdown",
   "id": "4",
   "metadata": {},
   "source": [
    "## First glance at raw data"
   ]
  },
  {
   "cell_type": "code",
   "execution_count": null,
   "id": "5",
   "metadata": {},
   "outputs": [],
   "source": [
    "display(df_raw.shape)"
   ]
  },
  {
   "cell_type": "code",
   "execution_count": null,
   "id": "6",
   "metadata": {},
   "outputs": [],
   "source": [
    "display(df_raw.info())"
   ]
  },
  {
   "cell_type": "code",
   "execution_count": null,
   "id": "7",
   "metadata": {},
   "outputs": [],
   "source": [
    "df_raw.isna().sum()"
   ]
  },
  {
   "cell_type": "code",
   "execution_count": null,
   "id": "8",
   "metadata": {},
   "outputs": [],
   "source": [
    "df_raw[\n",
    "    df_raw[\"sol_prod\"].isna() & df_raw[\"sol_prod_1\"].notna() & df_raw[\"sol_prod_1\"] > 0\n",
    "][[\"timestamp\", \"sol_prod\", \"sol_prod_1\", \"sol_prod_2\", \"sol_prod_3\"]].head(10)"
   ]
  },
  {
   "cell_type": "markdown",
   "id": "9",
   "metadata": {},
   "source": [
    "There are missing values in the `sol_prod` column, but the `sol_prod_1` column has values. The values in `sol_prod` should be recoverable from `sol_prod_1` and `sol_prod_2`."
   ]
  },
  {
   "cell_type": "code",
   "execution_count": null,
   "id": "10",
   "metadata": {},
   "outputs": [],
   "source": [
    "df_raw[\n",
    "    df_raw[\"wb_tot_charge\"].isna() & df_raw[\"wb_0_tot_charge\"].notna() & df_raw[\"wb_0_tot_charge\"] > 0\n",
    "][[\"timestamp\", \"wb_tot_charge\", \"wb_0_tot_charge\", \"wb_0_grid_cons\", \"wb_0_sol_charge\"]].head(10)"
   ]
  },
  {
   "cell_type": "code",
   "execution_count": null,
   "id": "11",
   "metadata": {},
   "outputs": [],
   "source": [
    "df_raw[\n",
    "    df_raw[\"wb_tot_charge\"].notna() & df_raw[\"wb_0_tot_charge\"].notna() & df_raw[\"wb_0_tot_charge\"] > 0\n",
    "][[\"timestamp\", \"wb_tot_charge\", \"wb_0_tot_charge\", \"wb_0_grid_cons\", \"wb_0_sol_charge\"]].head(10)"
   ]
  },
  {
   "cell_type": "markdown",
   "id": "12",
   "metadata": {},
   "source": [
    "There are also missing values in the `wb_tot_charge` column, but the `wb_0_tot_charge` column has values. The values in `wb_tot_charge` should be recoverable from `wb_0_tot_charge`."
   ]
  },
  {
   "cell_type": "markdown",
   "id": "13",
   "metadata": {},
   "source": [
    "## Info, Describe, Overview"
   ]
  },
  {
   "cell_type": "code",
   "execution_count": null,
   "id": "14",
   "metadata": {},
   "outputs": [],
   "source": [
    "df_raw[\"timestamp\"] = pd.to_datetime(df_raw[\"timestamp\"], format=\"%Y-%m-%d %H:%M\")"
   ]
  },
  {
   "cell_type": "code",
   "execution_count": null,
   "id": "15",
   "metadata": {},
   "outputs": [],
   "source": [
    "df_raw.info()"
   ]
  },
  {
   "cell_type": "code",
   "execution_count": null,
   "id": "16",
   "metadata": {},
   "outputs": [],
   "source": [
    "display(df_raw.loc[:, df_raw.select_dtypes(include=\"number\").columns].describe().T)"
   ]
  },
  {
   "cell_type": "code",
   "execution_count": null,
   "id": "17",
   "metadata": {},
   "outputs": [],
   "source": [
    "from src.eda import overview\n",
    "\n",
    "overview(df_raw)"
   ]
  },
  {
   "cell_type": "markdown",
   "id": "18",
   "metadata": {},
   "source": [
    "### Observation\n",
    "* `sol_prod_3` has only zeros.\n",
    "* `wb_0_grid_cons` has negative values."
   ]
  },
  {
   "cell_type": "markdown",
   "id": "19",
   "metadata": {},
   "source": [
    "## Correlations"
   ]
  },
  {
   "cell_type": "code",
   "execution_count": null,
   "id": "20",
   "metadata": {},
   "outputs": [],
   "source": [
    "df_raw_copy = df_raw.loc[:, df_raw.select_dtypes(include=[\"number\"]).columns].copy()\n",
    "\n",
    "\n",
    "corr = df_raw_copy.corr()\n",
    "mask = np.abs(corr) < 0.3\n",
    "annot = corr.round(2).astype(str)\n",
    "annot[mask] = \"\"\n",
    "\n",
    "plt.figure(figsize=(9, 7))\n",
    "sns.heatmap(\n",
    "    corr,\n",
    "    annot=annot,\n",
    "    fmt=\"\",\n",
    "    cmap=\"coolwarm\",\n",
    "    vmin=-1,\n",
    "    vmax=1,\n",
    ")\n",
    "\n",
    "plt.title(\"Correlations between numerical columns\", y=1.02)\n",
    "plt.show()\n",
    "\n",
    "del df_raw_copy"
   ]
  },
  {
   "cell_type": "markdown",
   "id": "21",
   "metadata": {},
   "source": [
    "## Outlier Detection"
   ]
  },
  {
   "cell_type": "code",
   "execution_count": null,
   "id": "22",
   "metadata": {},
   "outputs": [],
   "source": [
    "from src.eda import mark_outliers_mad\n",
    "\n",
    "# Mark outliers in the raw data using the Median Absolute Deviation (MAD) method\n",
    "# deviations from the median are considered outliers if they exceed 3 times the median absolute deviation\n",
    "# Note the log scale\n",
    "mark_outliers_mad(\n",
    "    df_raw,\n",
    "    )"
   ]
  },
  {
   "cell_type": "markdown",
   "id": "23",
   "metadata": {},
   "source": [
    "### Observations\n",
    "* Most of the columns have values that are considered outliers by the mad-3 method. Most of the values are very small, so this is not surprising."
   ]
  }
 ],
 "metadata": {
  "kernelspec": {
   "display_name": "predict-power-output",
   "language": "python",
   "name": "python3"
  },
  "language_info": {
   "codemirror_mode": {
    "name": "ipython",
    "version": 3
   },
   "file_extension": ".py",
   "mimetype": "text/x-python",
   "name": "python",
   "nbconvert_exporter": "python",
   "pygments_lexer": "ipython3",
   "version": "3.12.11"
  }
 },
 "nbformat": 4,
 "nbformat_minor": 5
}
