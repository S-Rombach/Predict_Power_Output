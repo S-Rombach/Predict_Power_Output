{
 "cells": [
  {
   "cell_type": "markdown",
   "id": "0",
   "metadata": {},
   "source": [
    "# EDA"
   ]
  },
  {
   "cell_type": "markdown",
   "id": "1",
   "metadata": {},
   "source": [
    "## Load"
   ]
  },
  {
   "cell_type": "code",
   "execution_count": null,
   "id": "2",
   "metadata": {},
   "outputs": [],
   "source": [
    "import os\n",
    "import numpy as np\n",
    "import pandas as pd\n",
    "from matplotlib import pyplot as plt\n",
    "import seaborn as sns\n",
    "\n",
    "from src.config import DATA_RAW_DIR, DATA_RAW_FILENAME"
   ]
  },
  {
   "cell_type": "code",
   "execution_count": null,
   "id": "3",
   "metadata": {},
   "outputs": [],
   "source": [
    "df_raw = pd.read_csv(os.path.join(DATA_RAW_DIR, DATA_RAW_FILENAME), sep=\";\")"
   ]
  },
  {
   "cell_type": "markdown",
   "id": "4",
   "metadata": {},
   "source": [
    "## First glance at raw data"
   ]
  },
  {
   "cell_type": "code",
   "execution_count": null,
   "id": "5",
   "metadata": {},
   "outputs": [],
   "source": [
    "display(df_raw.shape)"
   ]
  },
  {
   "cell_type": "code",
   "execution_count": null,
   "id": "6",
   "metadata": {},
   "outputs": [],
   "source": [
    "display(df_raw.info())"
   ]
  },
  {
   "cell_type": "code",
   "execution_count": null,
   "id": "7",
   "metadata": {},
   "outputs": [],
   "source": [
    "df_raw.isna().sum()"
   ]
  },
  {
   "cell_type": "code",
   "execution_count": null,
   "id": "8",
   "metadata": {},
   "outputs": [],
   "source": [
    "df_raw[\n",
    "    df_raw[\"sol_prod\"].isna() & df_raw[\"sol_prod_1\"].notna() & df_raw[\"sol_prod_1\"] > 0\n",
    "][[\"timestamp\", \"sol_prod\", \"sol_prod_1\", \"sol_prod_2\", \"sol_prod_3\"]].head(10)"
   ]
  },
  {
   "cell_type": "markdown",
   "id": "9",
   "metadata": {},
   "source": [
    "There are missing values in the `sol_prod` column, but the `sol_prod_1` column has values. The values in `sol_prod` should be recoverable from `sol_prod_1` and `sol_prod_2`."
   ]
  },
  {
   "cell_type": "code",
   "execution_count": null,
   "id": "10",
   "metadata": {},
   "outputs": [],
   "source": [
    "df_raw[\n",
    "    df_raw[\"wb_tot_charge\"].isna() & df_raw[\"wb_0_tot_charge\"].notna() & df_raw[\"wb_0_tot_charge\"] > 0\n",
    "][[\"timestamp\", \"wb_tot_charge\", \"wb_0_tot_charge\", \"wb_0_grid_cons\", \"wb_0_sol_charge\"]].head(10)"
   ]
  },
  {
   "cell_type": "code",
   "execution_count": null,
   "id": "11",
   "metadata": {},
   "outputs": [],
   "source": [
    "df_raw[\n",
    "    df_raw[\"wb_tot_charge\"].notna() & df_raw[\"wb_0_tot_charge\"].notna() & df_raw[\"wb_0_tot_charge\"] > 0\n",
    "][[\"timestamp\", \"wb_tot_charge\", \"wb_0_tot_charge\", \"wb_0_grid_cons\", \"wb_0_sol_charge\"]].head(10)"
   ]
  },
  {
   "cell_type": "markdown",
   "id": "12",
   "metadata": {},
   "source": [
    "There are also missing values in the `wb_tot_charge` column, but the `wb_0_tot_charge` column has values. The values in `wb_tot_charge` should be recoverable from `wb_0_tot_charge`."
   ]
  },
  {
   "cell_type": "markdown",
   "id": "13",
   "metadata": {},
   "source": [
    "## Info, Describe, Overview"
   ]
  },
  {
   "cell_type": "code",
   "execution_count": null,
   "id": "14",
   "metadata": {},
   "outputs": [],
   "source": [
    "df_raw[\"timestamp\"] = pd.to_datetime(df_raw[\"timestamp\"], format=\"%Y-%m-%d %H:%M\")"
   ]
  },
  {
   "cell_type": "code",
   "execution_count": null,
   "id": "15",
   "metadata": {},
   "outputs": [],
   "source": [
    "df_raw.info()"
   ]
  },
  {
   "cell_type": "code",
   "execution_count": null,
   "id": "16",
   "metadata": {},
   "outputs": [],
   "source": [
    "display(df_raw.loc[:, df_raw.select_dtypes(include=\"number\").columns].describe().T)"
   ]
  },
  {
   "cell_type": "code",
   "execution_count": null,
   "id": "17",
   "metadata": {},
   "outputs": [],
   "source": [
    "from src.eda import overview\n",
    "\n",
    "overview(df_raw)"
   ]
  },
  {
   "cell_type": "markdown",
   "id": "18",
   "metadata": {},
   "source": [
    "### Observation\n",
    "* `sol_prod_3` has only zeros.\n",
    "* `wb_0_grid_cons` has negative values."
   ]
  },
  {
   "cell_type": "markdown",
   "id": "19",
   "metadata": {},
   "source": [
    "## Correlations"
   ]
  },
  {
   "cell_type": "code",
   "execution_count": null,
   "id": "20",
   "metadata": {},
   "outputs": [],
   "source": [
    "df_raw_copy = df_raw.loc[:, df_raw.select_dtypes(include=[\"number\"]).columns].copy()\n",
    "\n",
    "\n",
    "corr = df_raw_copy.corr()\n",
    "mask = np.abs(corr) < 0.3\n",
    "annot = corr.round(2).astype(str)\n",
    "annot[mask] = \"\"\n",
    "\n",
    "plt.figure(figsize=(9, 7))\n",
    "sns.heatmap(\n",
    "    corr,\n",
    "    annot=annot,\n",
    "    fmt=\"\",\n",
    "    cmap=\"coolwarm\",\n",
    "    vmin=-1,\n",
    "    vmax=1,\n",
    ")\n",
    "\n",
    "plt.title(\"Correlations between numerical columns\", y=1.02)\n",
    "plt.show()\n",
    "\n",
    "del df_raw_copy"
   ]
  },
  {
   "cell_type": "markdown",
   "id": "21",
   "metadata": {},
   "source": [
    "## Outlier Detection"
   ]
  },
  {
   "cell_type": "code",
   "execution_count": null,
   "id": "22",
   "metadata": {},
   "outputs": [],
   "source": [
    "from src.eda import mark_outliers_mad\n",
    "\n",
    "# Mark outliers in the raw data using the Median Absolute Deviation (MAD) method\n",
    "# deviations from the median are considered outliers if they exceed 3 times the median absolute deviation\n",
    "# Note the log scale\n",
    "mark_outliers_mad(\n",
    "    df_raw,\n",
    "    )"
   ]
  },
  {
   "cell_type": "markdown",
   "id": "23",
   "metadata": {},
   "source": [
    "### Observations\n",
    "* Most of the columns have values that are considered outliers by the mad-3 method. Most of the values are very small, so this is not surprising considering night times with low energy production and consumption are also included."
   ]
  },
  {
   "cell_type": "markdown",
   "id": "24",
   "metadata": {},
   "source": [
    "## Grouped Series"
   ]
  },
  {
   "cell_type": "code",
   "execution_count": null,
   "id": "25",
   "metadata": {},
   "outputs": [],
   "source": [
    "df_time = df_raw.copy()\n",
    "df_time = df_time.drop(columns=[\"sol_prod_3\"])\n",
    "df_time[\"year\"] = df_time[\"timestamp\"].dt.year\n",
    "df_time[\"month\"] = df_time[\"timestamp\"].dt.month\n",
    "df_time[\"day\"] = df_time[\"timestamp\"].dt.day\n",
    "df_time[\"hour\"] = df_time[\"timestamp\"].dt.hour\n",
    "df_time[\"minute\"] = df_time[\"timestamp\"].dt.minute\n",
    "df_time[\"day_of_week\"] = df_time[\"timestamp\"].dt.dayofweek\n",
    "df_time[\"day_of_year\"] = df_time[\"timestamp\"].dt.dayofyear\n",
    "df_time[\"week_of_year\"] = df_time[\"timestamp\"].dt.isocalendar().week\n",
    "df_time = df_time.set_index(\"timestamp\").sort_index()"
   ]
  },
  {
   "cell_type": "code",
   "execution_count": null,
   "id": "26",
   "metadata": {},
   "outputs": [],
   "source": [
    "df_time.loc[df_time[\"sol_prod\"].isna(), \"sol_prod\"] = df_time[df_time[\"sol_prod\"].isna()][\"sol_prod_1\"] + df_time[df_time[\"sol_prod\"].isna()][\"sol_prod_2\"] \n"
   ]
  },
  {
   "cell_type": "markdown",
   "id": "27",
   "metadata": {},
   "source": [
    "### By year and day"
   ]
  },
  {
   "cell_type": "code",
   "execution_count": null,
   "id": "28",
   "metadata": {},
   "outputs": [],
   "source": [
    "drop_cols = [\"month\", \"day\", \"hour\", \"minute\", \"day_of_week\", \"week_of_year\"]\n",
    "group_cols = [\"installation\", \"year\", \"day_of_year\"]\n",
    "\n",
    "agg_dict = {\"soc\": \"mean\"} | {\n",
    "    c: \"sum\" for c in df_time.columns if c not in drop_cols + group_cols + [\"soc\"]\n",
    "}\n",
    "\n",
    "df_by_year_day = (\n",
    "    df_time.drop(columns=drop_cols)\n",
    "    .groupby(group_cols)\n",
    "    .agg(agg_dict)\n",
    "    .reset_index()\n",
    ")\n",
    "\n",
    "df_by_year_day[\"installation_year\"] = df_by_year_day[[\"installation\", \"year\"]].apply(\n",
    "    lambda x: f\"{x[\"installation\"]} {x[\"year\"]}\", axis=1\n",
    ")\n",
    "\n",
    "# display(df_by_year_day.head())\n",
    "\n",
    "show_columns = [\n",
    "    \"soc\",\n",
    "    \"bat_charge\",\n",
    "    \"bat_discharge\",\n",
    "    \"grid_feed_in\",\n",
    "    \"grid_cons\",\n",
    "    \"sol_prod_1\",\n",
    "    \"sol_prod_2\",\n",
    "    \"sol_prod\",\n",
    "    \"house_cons\",\n",
    "    \"add_cons\",\n",
    "    \"ext_cons\",\n",
    "    \"tot_cons\",\n",
    "    \"wb_0_tot_charge\",\n",
    "    \"wb_0_grid_cons\",\n",
    "    \"wb_0_sol_charge\",\n",
    "]\n",
    "\n",
    "\n",
    "fig, axs = plt.subplots(\n",
    "    nrows=len(show_columns), figsize=(16, 2 * len(show_columns) + 2)\n",
    ")\n",
    "\n",
    "for col, ax in zip(show_columns, axs):\n",
    "    sns.lineplot(\n",
    "        data=df_by_year_day,\n",
    "        x=\"day_of_year\",\n",
    "        y=col,\n",
    "        hue=df_by_year_day[\"installation_year\"],\n",
    "        linewidth=0.5,\n",
    "        # palette=\"tab10\",\n",
    "        ax=ax,\n",
    "    )\n",
    "    ax.legend(title=\"Installation Year\", bbox_to_anchor=(1.01, 1), loc=\"upper left\")\n",
    "    ax.set_title(col)\n",
    "    ax.set_xticks(np.arange(0, 366, 30))\n",
    "    ax.set_xticklabels(\n",
    "        [f\"{i:01d}\" for i in np.arange(0, 366, 30)],\n",
    "    )\n",
    "    if col == \"soc\":\n",
    "        ticks = np.arange(0, 101, 20)\n",
    "        ax.set_ylim(0, 100)\n",
    "        ax.set_yticks(ticks)\n",
    "        ax.set_yticklabels([f\"{i}%\" for i in ticks])\n",
    "        ax.set_ylabel(\"\")\n",
    "    else:\n",
    "        ax.set_ylabel(\"Wh\")\n",
    "\n",
    "    ax.yaxis.grid(True, which=\"major\", linestyle=\"--\", color=\"lightgrey\")\n",
    "\n",
    "\n",
    "plt.suptitle(\"Daily Total Power Consumption and Production by Installation and Year\", fontsize=16, y=1.02)\n",
    "plt.tight_layout()\n",
    "plt.show()"
   ]
  },
  {
   "cell_type": "markdown",
   "id": "29",
   "metadata": {},
   "source": [
    "#### Observations\n",
    "* The yearly cycle of the power consumption and production is visible.\n",
    "* The wallbox has been installed in early 2024.\n",
    "* In 2022 there is a high external and additional consumption spike."
   ]
  },
  {
   "cell_type": "markdown",
   "id": "30",
   "metadata": {},
   "source": [
    "### By year and weekday"
   ]
  },
  {
   "cell_type": "code",
   "execution_count": null,
   "id": "31",
   "metadata": {},
   "outputs": [],
   "source": [
    "drop_cols = [\"month\", \"day\", \"hour\", \"minute\", \"day_of_year\"]\n",
    "group_cols = [\"installation\", \"year\", \"week_of_year\", \"day_of_week\"]\n",
    "\n",
    "agg_dict = {\"soc\": \"mean\"} | {\n",
    "    c: \"sum\" for c in df_time.columns if c not in drop_cols + group_cols + [\"soc\"]\n",
    "}\n",
    "\n",
    "df_by_year_weekday = (\n",
    "    df_time.drop(columns=drop_cols)\n",
    "    .groupby(group_cols)\n",
    "    .agg(agg_dict)\n",
    "    .reset_index()\n",
    ")\n",
    "\n",
    "df_by_year_weekday[\"installation_year\"] = df_by_year_weekday[[\"installation\", \"year\"]].apply(\n",
    "    lambda x: f\"{x[\"installation\"]} {x[\"year\"]}\", axis=1\n",
    ")\n",
    "\n",
    "# display(df_by_year_weekday.head())\n",
    "\n",
    "show_columns = [\n",
    "    \"soc\",\n",
    "    \"bat_charge\",\n",
    "    \"bat_discharge\",\n",
    "    \"grid_feed_in\",\n",
    "    \"grid_cons\",\n",
    "    \"sol_prod_1\",\n",
    "    \"sol_prod_2\",\n",
    "    \"sol_prod\",\n",
    "    \"house_cons\",\n",
    "    \"add_cons\",\n",
    "    \"ext_cons\",\n",
    "    \"tot_cons\",\n",
    "    \"wb_0_tot_charge\",\n",
    "    \"wb_0_grid_cons\",\n",
    "    \"wb_0_sol_charge\",\n",
    "]\n",
    "\n",
    "\n",
    "fig, axall = plt.subplots(\n",
    "    nrows=len(show_columns),\n",
    "    ncols=7,\n",
    "    figsize=(16, 2 * len(show_columns) + 2),\n",
    "    sharey='row'\n",
    ")\n",
    "\n",
    "for col, axrow in zip(show_columns, axall):\n",
    "    weekdays = sorted(df_by_year_weekday[\"day_of_week\"].unique())\n",
    "    for day_of_week, ax in zip(weekdays, axrow):\n",
    "        sns.lineplot(\n",
    "            data=df_by_year_weekday[df_by_year_weekday[\"day_of_week\"] == day_of_week],\n",
    "            x=\"week_of_year\",\n",
    "            y=col,\n",
    "            hue=df_by_year_weekday[\"installation_year\"],\n",
    "            linewidth=0.5,\n",
    "            # palette=\"tab10\",\n",
    "            ax=ax,\n",
    "        )\n",
    "        ax.legend(title=\"Installation Year\", bbox_to_anchor=(1.01, 1), loc=\"upper left\")\n",
    "        ax.set_title(col)\n",
    "        ax.set_xticks(np.arange(0, 53, 10))\n",
    "        ax.set_xticklabels(\n",
    "            [f\"{i:01d}\" for i in np.arange(0, 53, 10)],\n",
    "        )\n",
    "        ax.set_xlabel(\"\")\n",
    "\n",
    "        if col == \"soc\":\n",
    "            ticks = np.arange(0, 101, 20)\n",
    "            ax.set_ylim(0, 100)\n",
    "            ax.set_yticks(ticks)\n",
    "            ax.set_yticklabels([f\"{i}%\" for i in ticks])\n",
    "            ax.set_ylabel(\"\")\n",
    "        else:\n",
    "            ax.set_ylabel(\"Wh\")\n",
    "\n",
    "        ax.yaxis.grid(True, which=\"major\", linestyle=\"--\", color=\"lightgrey\")\n",
    "\n",
    "        # Only show legend for last day of week\n",
    "        if day_of_week == weekdays[-1]:\n",
    "            ax.legend(title=\"Installation Year\", bbox_to_anchor=(1.01, 1), loc=\"upper left\")\n",
    "        else:\n",
    "            ax.legend().remove()\n",
    "            \n",
    "\n",
    "\n",
    "\n",
    "plt.suptitle(\n",
    "    \"Weekday Power Consumption and Production by Installation and Year\",\n",
    "    fontsize=16,\n",
    "    y=1.02,\n",
    ")\n",
    "plt.tight_layout()\n",
    "plt.show()"
   ]
  },
  {
   "cell_type": "markdown",
   "id": "32",
   "metadata": {},
   "source": [
    "### Rolling Mean (4-Week) Of Daily Power Consumption and Production by Weekday"
   ]
  },
  {
   "cell_type": "code",
   "execution_count": null,
   "id": "33",
   "metadata": {},
   "outputs": [],
   "source": [
    "drop_cols = [\"month\", \"day\", \"hour\", \"minute\", \"day_of_year\", \"year\"]\n",
    "group_cols = [\"installation\", \"day_of_week\", \"week_of_year\"]\n",
    "\n",
    "agg_dict = {\"soc\": \"mean\"} | {\n",
    "    c: \"sum\" for c in df_time.columns if c not in drop_cols + group_cols + [\"soc\"]\n",
    "}\n",
    "\n",
    "\n",
    "df_agg = (\n",
    "    df_time.drop(columns=drop_cols).groupby(group_cols, as_index=False).agg(agg_dict)\n",
    ")\n",
    "\n",
    "\n",
    "value_cols = [c for c in df_agg.columns if c not in group_cols]\n",
    "df_agg[value_cols] = (\n",
    "    df_agg.groupby(\"installation\", group_keys=False)[value_cols]\n",
    "          .rolling(window=4, min_periods=1)\n",
    "          .mean()\n",
    "          .reset_index(level=0, drop=True)\n",
    ")\n",
    "\n",
    "df_by_year_weekday = df_agg.reset_index(drop=True)\n",
    "\n",
    "df_by_year_weekday[\"installation_dow\"] = df_by_year_weekday[\n",
    "    [\"installation\", \"day_of_week\"]\n",
    "].apply(lambda x: f\"day {x[\"day_of_week\"]}\", axis=1)\n",
    "\n",
    "display(df_by_year_weekday.head())\n",
    "\n",
    "show_columns = [\n",
    "    \"soc\",\n",
    "    \"bat_charge\",\n",
    "    \"bat_discharge\",\n",
    "    \"grid_feed_in\",\n",
    "    \"grid_cons\",\n",
    "    \"sol_prod_1\",\n",
    "    \"sol_prod_2\",\n",
    "    \"sol_prod\",\n",
    "    \"house_cons\",\n",
    "    \"add_cons\",\n",
    "    \"ext_cons\",\n",
    "    \"tot_cons\",\n",
    "    \"wb_0_tot_charge\",\n",
    "    \"wb_0_grid_cons\",\n",
    "    \"wb_0_sol_charge\",\n",
    "]\n",
    "\n",
    "\n",
    "fig, axall = plt.subplots(\n",
    "    nrows=len(show_columns),\n",
    "    figsize=(16, 2 * len(show_columns) + 2),\n",
    ")\n",
    "\n",
    "for col, axrow in zip(show_columns, axall):\n",
    "    ax = axrow\n",
    "    sns.lineplot(\n",
    "        data=df_by_year_weekday,\n",
    "        x=\"week_of_year\",\n",
    "        y=col,\n",
    "        hue=df_by_year_weekday[\"installation_dow\"],\n",
    "        linewidth=1,\n",
    "        ax=ax,\n",
    "    )\n",
    "    ax.set_title(f\"{col}\")\n",
    "    if col == \"soc\":\n",
    "        ticks = np.arange(0, 101, 20)\n",
    "        ax.set_ylim(0, 100)\n",
    "        ax.set_yticks(ticks)\n",
    "        ax.set_yticklabels([f\"{i}%\" for i in ticks])\n",
    "        for tick in ticks:\n",
    "            ax.axhline(y=tick, linestyle=\"--\", linewidth=0.5, color=\"gray\")\n",
    "    else:\n",
    "        ax.set_ylabel(\"Wh\")\n",
    "\n",
    "    if day_of_week == weekdays[-1]:\n",
    "        ax.legend(title=\"Day of Week\", bbox_to_anchor=(1.01, 0.5), loc=\"center left\")\n",
    "    else:\n",
    "        ax.legend().remove()\n",
    "\n",
    "plt.suptitle(\n",
    "    \"Rolling Mean (4-Week) Of Daily Power Consumption and Production by Weekday\",\n",
    "    fontsize=16,\n",
    "    y=1.02,\n",
    ")\n",
    "plt.tight_layout()\n",
    "plt.show()"
   ]
  },
  {
   "cell_type": "markdown",
   "id": "34",
   "metadata": {},
   "source": [
    "#### Observations\n",
    "* A significant difference in power consumption is not observed between weekdays and weekends.\n",
    "* The consumption spike around weeks 28-30 are still visible in the rolling mean.\n",
    "* The battery was never fully charged, indicating a potential need for increased solar production or reduced consumption."
   ]
  },
  {
   "cell_type": "markdown",
   "id": "35",
   "metadata": {},
   "source": [
    "### Rolling Mean (12-Week) Of Daily Power Consumption and Production by Weekday"
   ]
  },
  {
   "cell_type": "code",
   "execution_count": null,
   "id": "36",
   "metadata": {},
   "outputs": [],
   "source": [
    "drop_cols = [\"month\", \"day\", \"hour\", \"minute\", \"day_of_year\", \"year\"]\n",
    "group_cols = [\"installation\", \"day_of_week\", \"week_of_year\"]\n",
    "\n",
    "agg_dict = {\"soc\": \"mean\"} | {\n",
    "    c: \"sum\" for c in df_time.columns if c not in drop_cols + group_cols + [\"soc\"]\n",
    "}\n",
    "\n",
    "\n",
    "df_agg = (\n",
    "    df_time.drop(columns=drop_cols).groupby(group_cols, as_index=False).agg(agg_dict)\n",
    ")\n",
    "\n",
    "\n",
    "value_cols = [c for c in df_agg.columns if c not in group_cols]\n",
    "df_agg[value_cols] = (\n",
    "    df_agg.groupby(\"installation\", group_keys=False)[value_cols]\n",
    "          .rolling(window=12, min_periods=1)\n",
    "          .mean()\n",
    "          .reset_index(level=0, drop=True)\n",
    ")\n",
    "\n",
    "df_by_year_weekday = df_agg.reset_index(drop=True)\n",
    "\n",
    "df_by_year_weekday[\"installation_dow\"] = df_by_year_weekday[\n",
    "    [\"installation\", \"day_of_week\"]\n",
    "].apply(lambda x: f\"day {x[\"day_of_week\"]}\", axis=1)\n",
    "\n",
    "display(df_by_year_weekday.head())\n",
    "\n",
    "show_columns = [\n",
    "    \"soc\",\n",
    "    \"bat_charge\",\n",
    "    \"bat_discharge\",\n",
    "    \"grid_feed_in\",\n",
    "    \"grid_cons\",\n",
    "    \"sol_prod_1\",\n",
    "    \"sol_prod_2\",\n",
    "    \"sol_prod\",\n",
    "    \"house_cons\",\n",
    "    \"add_cons\",\n",
    "    \"ext_cons\",\n",
    "    \"tot_cons\",\n",
    "    \"wb_0_tot_charge\",\n",
    "    \"wb_0_grid_cons\",\n",
    "    \"wb_0_sol_charge\",\n",
    "    \n",
    "]\n",
    "\n",
    "\n",
    "fig, axall = plt.subplots(\n",
    "    nrows=len(show_columns),\n",
    "    figsize=(16, 2 * len(show_columns) + 2),\n",
    ")\n",
    "\n",
    "for col, axrow in zip(show_columns, axall):\n",
    "    ax = axrow\n",
    "    sns.lineplot(\n",
    "        data=df_by_year_weekday,\n",
    "        x=\"week_of_year\",\n",
    "        y=col,\n",
    "        hue=df_by_year_weekday[\"installation_dow\"],\n",
    "        linewidth=1,\n",
    "        ax=ax,\n",
    "    )\n",
    "    ax.set_title(f\"{col}\")\n",
    "    if col == \"soc\":\n",
    "        ticks = np.arange(0, 101, 20)\n",
    "        ax.set_ylim(0, 100)\n",
    "        ax.set_yticks(ticks)\n",
    "        ax.set_yticklabels([f\"{i}%\" for i in ticks])\n",
    "        for tick in ticks:\n",
    "            ax.axhline(y=tick, linestyle=\"--\", linewidth=0.5, color=\"gray\")\n",
    "    else:\n",
    "        ax.set_ylabel(\"Wh\")\n",
    "\n",
    "    if day_of_week == weekdays[-1]:\n",
    "        ax.legend(title=\"Day of Week\", bbox_to_anchor=(1.01, 0.5), loc=\"center left\")\n",
    "    else:\n",
    "        ax.legend().remove()\n",
    "\n",
    "plt.suptitle(\n",
    "    \"Rolling Mean (12-Week) Of Daily Power Consumption and Production by Weekday\",\n",
    "    fontsize=16,\n",
    "    y=1.02,\n",
    ")\n",
    "plt.tight_layout()\n",
    "plt.show()"
   ]
  },
  {
   "cell_type": "code",
   "execution_count": null,
   "id": "37",
   "metadata": {},
   "outputs": [],
   "source": [
    "\n",
    "df_by_year_weekday = (\n",
    "    df_time.reset_index().drop(columns=[\"month\", \"day\", \"hour\", \"minute\", \"day_of_year\", \"year\", \"timestamp\"])\n",
    "    .groupby([\"installation\", \"week_of_year\", \"day_of_week\"]).sum()\n",
    "    .rolling(window=4, min_periods=1)\n",
    "    .mean()\n",
    "    .reset_index()\n",
    ")\n",
    "\n",
    "display(df_time.reset_index().drop(columns=[\"month\", \"day\", \"hour\", \"minute\", \"day_of_year\", \"year\", \"timestamp\"])\n",
    "    .groupby([\"installation\", \"week_of_year\", \"day_of_week\"]).sum().head(5))\n",
    "\n",
    "display(    df_time.reset_index().drop(columns=[\"month\", \"day\", \"hour\", \"minute\", \"day_of_year\", \"year\", \"timestamp\"])\n",
    "    .groupby([\"installation\", \"week_of_year\", \"day_of_week\"]).sum()\n",
    "    .rolling(window=4, min_periods=1)\n",
    "    .mean().head(5))\n",
    "\n",
    "\n",
    "\n",
    "\n",
    "# display(df_time.reset_index()[(df_time.reset_index()[\"week_of_year\"]==1) & (df_time.reset_index()[\"day_of_week\"]==0)].head(5))\n",
    "# display(df_time.reset_index().drop(columns=[\"month\", \"day\", \"hour\", \"minute\", \"day_of_year\", \"year\", \"timestamp\"]).head(5))\n",
    "# display(df_time.reset_index().drop(columns=[\"month\", \"day\", \"hour\", \"minute\", \"day_of_year\", \"year\", \"timestamp\"]).groupby([\"installation\", \"week_of_year\", \"day_of_week\"]).head(5))\n",
    "# display(df_time.reset_index().drop(columns=[\"month\", \"day\", \"hour\", \"minute\", \"day_of_year\", \"year\", \"timestamp\"]).groupby([\"installation\", \"week_of_year\", \"day_of_week\"]).rolling(window=4, min_periods=1).mean().head(5))\n",
    "# display(df_time.reset_index().drop(columns=[\"month\", \"day\", \"hour\", \"minute\", \"day_of_year\", \"year\", \"timestamp\"]).groupby([\"installation\", \"week_of_year\", \"day_of_week\"]).rolling(window=4, min_periods=1).mean().reset_index().head(5))\n"
   ]
  }
 ],
 "metadata": {
  "kernelspec": {
   "display_name": "predict-power-output",
   "language": "python",
   "name": "python3"
  },
  "language_info": {
   "codemirror_mode": {
    "name": "ipython",
    "version": 3
   },
   "file_extension": ".py",
   "mimetype": "text/x-python",
   "name": "python",
   "nbconvert_exporter": "python",
   "pygments_lexer": "ipython3",
   "version": "3.12.11"
  }
 },
 "nbformat": 4,
 "nbformat_minor": 5
}
